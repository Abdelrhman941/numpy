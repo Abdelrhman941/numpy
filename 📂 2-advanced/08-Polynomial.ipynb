{
 "cells": [
  {
   "cell_type": "code",
   "execution_count": 1,
   "metadata": {},
   "outputs": [],
   "source": [
    "import numpy as np          # type: ignore"
   ]
  },
  {
   "cell_type": "markdown",
   "metadata": {},
   "source": [
    "<div style=\"background-color:rgb(85, 78, 79) ; color: #ffffff; width: 100%; height: 50px; text-align: center; font-weight: bold; line-height: 50px; margin: 10px 0; font-size: 24px;\">\n",
    "degrees\n",
    "</div>"
   ]
  },
  {
   "cell_type": "markdown",
   "metadata": {},
   "source": [
    "> ### **first degree** >> "
   ]
  },
  {
   "cell_type": "code",
   "execution_count": 2,
   "metadata": {},
   "outputs": [
    {
     "name": "stdout",
     "output_type": "stream",
     "text": [
      "5.5 - 4.5 x\n"
     ]
    }
   ],
   "source": [
    "X = np.array([0 ,20,40,60,80,100,120,140,160,180]) \n",
    "Y = np.array([10,9 ,8 ,7 ,6 ,5 ,4 ,3 ,2 ,1 ]) \n",
    "Polynomial_one = np.polynomial.Polynomial \n",
    "\n",
    "points,stats = Polynomial_one.fit(X,Y,1,full=True) \n",
    "print(points) "
   ]
  },
  {
   "cell_type": "markdown",
   "metadata": {},
   "source": [
    "> ### **second degree** >> "
   ]
  },
  {
   "cell_type": "code",
   "execution_count": 3,
   "metadata": {},
   "outputs": [
    {
     "name": "stdout",
     "output_type": "stream",
     "text": [
      "5.5 - 4.5 x + (4.47311763e-16) x**2\n"
     ]
    }
   ],
   "source": [
    "X = np.array([0 ,20,40,60,80,100,120,140,160,180]) \n",
    "Y = np.array([10,9 ,8 ,7 ,6 ,5 ,4 ,3 ,2 ,1 ]) \n",
    "Polynomial_two = np.polynomial.Polynomial \n",
    "\n",
    "points,stats = Polynomial_two.fit(X,Y,2,full=True) \n",
    "print(points)"
   ]
  },
  {
   "cell_type": "markdown",
   "metadata": {},
   "source": [
    "<div style=\"background-color:rgb(85, 78, 79) ; color: #ffffff; width: 100%; height: 50px; text-align: center; font-weight: bold; line-height: 50px; margin: 10px 0; font-size: 24px;\">\n",
    "poly1d , polyval\n",
    "</div>"
   ]
  },
  {
   "attachments": {
    "image.png": {
     "image/png": "[encoded data removed]"
    }
   },
   "cell_type": "markdown",
   "metadata": {},
   "source": [
    "> ![image.png](attachment:image.png)"
   ]
  },
  {
   "cell_type": "markdown",
   "metadata": {},
   "source": [
    "#### 👉 to write Equation"
   ]
  },
  {
   "cell_type": "code",
   "execution_count": 4,
   "metadata": {},
   "outputs": [
    {
     "name": "stdout",
     "output_type": "stream",
     "text": [
      " \n",
      "-7\n",
      "------\n",
      " \n",
      "-7 x + 2\n",
      "------\n",
      "    2\n",
      "-7 x + 2 x + 1\n",
      "------\n",
      "    3     2\n",
      "-7 x + 2 x + 1 x + 3\n",
      "------\n",
      "    4     3     2\n",
      "-7 x + 2 x + 1 x + 3 x + 6\n"
     ]
    }
   ],
   "source": [
    "a = np.poly1d((-7)) \n",
    "print(a)\n",
    "print('------')\n",
    "\n",
    "b = np.poly1d((-7,2)) \n",
    "print(b) \n",
    "print('------')\n",
    "\n",
    "c = np.poly1d((-7,2,1)) \n",
    "print(c) \n",
    "print('------')\n",
    "\n",
    "d = np.poly1d((-7,2,1,3)) \n",
    "print(d) \n",
    "print('------')\n",
    "\n",
    "e = np.poly1d((-7,2,1,3,6)) \n",
    "print(e)"
   ]
  },
  {
   "cell_type": "markdown",
   "metadata": {},
   "source": [
    "#### 👉 for Substitution"
   ]
  },
  {
   "cell_type": "code",
   "execution_count": 5,
   "metadata": {},
   "outputs": [
    {
     "name": "stdout",
     "output_type": "stream",
     "text": [
      "    4     3     2\n",
      "-7 x + 2 x + 1 x + 3 x + 6\n",
      "------\n",
      "-4079\n",
      "------\n",
      "6\n",
      "------\n",
      "-360939\n",
      "------\n",
      "6\n",
      "------\n",
      "-360939\n"
     ]
    }
   ],
   "source": [
    "## 1)by number >>\n",
    "a = np.poly1d((-7,2,1,3,6)) \n",
    "print(a) \n",
    "print('------')\n",
    "\n",
    "b = a(5) \n",
    "print(b) \n",
    "print('------')\n",
    "\n",
    "c = a(0) \n",
    "print(c)\n",
    "print('------')\n",
    "\n",
    "d = a(-15) \n",
    "print(d)\n",
    "print('------')\n",
    "##############################################\n",
    "## 2)by polyval() >>\n",
    "a = np.polyval((-7,2,1,3,6),0) \n",
    "print(a) \n",
    "print('------')\n",
    "\n",
    "a = np.polyval((-7,2,1,3,6),-15) \n",
    "print(a)"
   ]
  },
  {
   "cell_type": "markdown",
   "metadata": {},
   "source": [
    "<div style=\"background-color:rgb(85, 78, 79) ; color: #ffffff; width: 100%; height: 50px; text-align: center; font-weight: bold; line-height: 50px; margin: 10px 0; font-size: 24px;\">\n",
    "polyder\n",
    "</div>"
   ]
  },
  {
   "cell_type": "markdown",
   "metadata": {},
   "source": [
    "#### 👉 for Derivation"
   ]
  },
  {
   "cell_type": "markdown",
   "metadata": {},
   "source": [
    "> #### **1 derivate**"
   ]
  },
  {
   "cell_type": "code",
   "execution_count": 6,
   "metadata": {},
   "outputs": [
    {
     "name": "stdout",
     "output_type": "stream",
     "text": [
      "   2\n",
      "1 x + 2 x + 3\n",
      "------\n",
      " \n",
      "2 x + 2\n"
     ]
    }
   ],
   "source": [
    "a1= np.poly1d((1,2,3)) \n",
    "print(a1) \n",
    "print('------')\n",
    "\n",
    "a = np.polyder(np.poly1d((1,2,3))) \n",
    "print(a)"
   ]
  },
  {
   "cell_type": "markdown",
   "metadata": {},
   "source": [
    "> #### **2 derivate**"
   ]
  },
  {
   "cell_type": "code",
   "execution_count": 7,
   "metadata": {},
   "outputs": [
    {
     "name": "stdout",
     "output_type": "stream",
     "text": [
      "   2\n",
      "1 x + 2 x + 3\n",
      "------\n",
      " \n",
      "2\n"
     ]
    }
   ],
   "source": [
    "b1= np.poly1d((1,2,3))\n",
    "print(b1) \n",
    "print('------')\n",
    "\n",
    "b = np.polyder(np.poly1d((1,2,3)),2)  \n",
    "print(b)"
   ]
  },
  {
   "cell_type": "markdown",
   "metadata": {},
   "source": [
    "<div style=\"background-color:rgb(85, 78, 79) ; color: #ffffff; width: 100%; height: 50px; text-align: center; font-weight: bold; line-height: 50px; margin: 10px 0; font-size: 24px;\">\n",
    "polyint\n",
    "</div>"
   ]
  },
  {
   "cell_type": "markdown",
   "metadata": {},
   "source": [
    "#### 👉 for Integration"
   ]
  },
  {
   "cell_type": "markdown",
   "metadata": {},
   "source": [
    "> #### **1 integrate**"
   ]
  },
  {
   "cell_type": "code",
   "execution_count": 8,
   "metadata": {},
   "outputs": [
    {
     "name": "stdout",
     "output_type": "stream",
     "text": [
      "   2\n",
      "1 x + 2 x + 3\n",
      "------\n",
      "        3     2\n",
      "0.3333 x + 1 x + 3 x\n"
     ]
    }
   ],
   "source": [
    "a1= np.poly1d((1,2,3)) \n",
    "print(a1) \n",
    "print('------')\n",
    "\n",
    "a = np.polyint(np.poly1d((1,2,3))) \n",
    "print(a)"
   ]
  },
  {
   "cell_type": "markdown",
   "metadata": {},
   "source": [
    "> #### **2 integrate**"
   ]
  },
  {
   "cell_type": "code",
   "execution_count": 9,
   "metadata": {},
   "outputs": [
    {
     "name": "stdout",
     "output_type": "stream",
     "text": [
      "   2\n",
      "1 x + 2 x + 3\n",
      "------\n",
      "         4          3       2\n",
      "0.08333 x + 0.3333 x + 1.5 x\n"
     ]
    }
   ],
   "source": [
    "b1= np.poly1d((1,2,3))\n",
    "print(b1) \n",
    "print('------')\n",
    "\n",
    "b = np.polyint(np.poly1d((1,2,3)),2)  \n",
    "print(b)"
   ]
  },
  {
   "cell_type": "markdown",
   "metadata": {},
   "source": [
    "<div style=\"background-color:rgb(85, 78, 79) ; color: #ffffff; width: 100%; height: 50px; text-align: center; font-weight: bold; line-height: 50px; margin: 10px 0; font-size: 24px;\">\n",
    "roots\n",
    "</div>"
   ]
  },
  {
   "cell_type": "markdown",
   "metadata": {},
   "source": [
    "> #### **1 degree**"
   ]
  },
  {
   "cell_type": "code",
   "execution_count": 10,
   "metadata": {},
   "outputs": [
    {
     "name": "stdout",
     "output_type": "stream",
     "text": [
      " \n",
      "1 x + 2\n",
      "------\n",
      "[-2.]\n"
     ]
    }
   ],
   "source": [
    "a1= np.poly1d((1,2)) \n",
    "print(a1)\n",
    "print('------')\n",
    "\n",
    "a = np.roots(np.poly1d((1,2))) \n",
    "print(a) "
   ]
  },
  {
   "cell_type": "markdown",
   "metadata": {},
   "source": [
    "> #### **2 degree**"
   ]
  },
  {
   "cell_type": "code",
   "execution_count": 11,
   "metadata": {},
   "outputs": [
    {
     "name": "stdout",
     "output_type": "stream",
     "text": [
      "   2\n",
      "1 x + 2 x + 3\n",
      "------\n",
      "[-1.+1.41421356j -1.-1.41421356j]\n"
     ]
    }
   ],
   "source": [
    "b1= np.poly1d((1,2,3)) \n",
    "print(b1)  \n",
    "print('------')\n",
    "\n",
    "b = np.roots(np.poly1d((1,2,3))) \n",
    "print(b)"
   ]
  },
  {
   "cell_type": "markdown",
   "metadata": {},
   "source": [
    "> #### **3 degree**"
   ]
  },
  {
   "cell_type": "code",
   "execution_count": 12,
   "metadata": {},
   "outputs": [
    {
     "name": "stdout",
     "output_type": "stream",
     "text": [
      "   3     2\n",
      "1 x + 2 x + 3 x + 5\n",
      "------\n",
      "[-1.84373428+0.j         -0.07813286+1.64492638j -0.07813286-1.64492638j]\n"
     ]
    }
   ],
   "source": [
    "c1= np.poly1d((1,2,3,5)) \n",
    "print(c1)  \n",
    "print('------')\n",
    "\n",
    "c = np.roots(np.poly1d((1,2,3,5))) \n",
    "print(c)"
   ]
  },
  {
   "cell_type": "markdown",
   "metadata": {},
   "source": [
    "<div style=\"background-color:rgb(85, 78, 79) ; color: #ffffff; width: 100%; height: 50px; text-align: center; font-weight: bold; line-height: 50px; margin: 10px 0; font-size: 24px;\">\n",
    "polyfit\n",
    "</div>"
   ]
  },
  {
   "cell_type": "markdown",
   "metadata": {},
   "source": [
    "#### 👉 **for best fit line**"
   ]
  },
  {
   "cell_type": "code",
   "execution_count": 13,
   "metadata": {},
   "outputs": [
    {
     "name": "stdout",
     "output_type": "stream",
     "text": [
      "[3 6 2 5 4]\n",
      "[ 2.   3.  -9.   6.   2.5]\n",
      "[ -1.78571429  17.08571429 -35.3       ]\n"
     ]
    }
   ],
   "source": [
    "x = np.array([3,6,2,5,4])\n",
    "y = np.array([2,3,-9,6,2.5])\n",
    "z = np.polyfit(x,y,2) \n",
    "\n",
    "print(x) \n",
    "print(y)\n",
    "print(z) "
   ]
  }
 ],
 "metadata": {
  "kernelspec": {
   "display_name": "base",
   "language": "python",
   "name": "python3"
  },
  "language_info": {
   "codemirror_mode": {
    "name": "ipython",
    "version": 3
   },
   "file_extension": ".py",
   "mimetype": "text/x-python",
   "name": "python",
   "nbconvert_exporter": "python",
   "pygments_lexer": "ipython3",
   "version": "3.12.3"
  }
 },
 "nbformat": 4,
 "nbformat_minor": 2
}
