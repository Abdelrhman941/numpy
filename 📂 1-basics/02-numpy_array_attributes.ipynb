{
 "cells": [
  {
   "cell_type": "code",
   "execution_count": 1,
   "metadata": {},
   "outputs": [],
   "source": [
    "import numpy as np          # type: ignore"
   ]
  },
  {
   "cell_type": "markdown",
   "metadata": {},
   "source": [
    "<div style=\"background-color:rgb(85, 78, 79) ; color: #ffffff; width: 100%; height: 50px; text-align: center; font-weight: bold; line-height: 50px; margin: 10px 0; font-size: 24px;\">\n",
    "dimension of array\n",
    "</div>"
   ]
  },
  {
   "cell_type": "markdown",
   "metadata": {},
   "source": [
    "> ### **one dim** >>"
   ]
  },
  {
   "cell_type": "code",
   "execution_count": 2,
   "metadata": {},
   "outputs": [
    {
     "name": "stdout",
     "output_type": "stream",
     "text": [
      "[2, 3, 6, 5, 4, 7, 8]\n",
      "<class 'list'> \n",
      "\n",
      "[2 3 6 5 4 7 8]\n",
      "<class 'numpy.ndarray'>\n"
     ]
    }
   ],
   "source": [
    "a = [2,3,6,5,4,7,8] \n",
    "b = np.array(a) \n",
    "\n",
    "print(a)\n",
    "print(type(a),\"\\n\")\n",
    "\n",
    "print(b)\n",
    "print(type(b))"
   ]
  },
  {
   "cell_type": "markdown",
   "metadata": {},
   "source": [
    "> ### **two dim** >>"
   ]
  },
  {
   "cell_type": "code",
   "execution_count": 3,
   "metadata": {},
   "outputs": [
    {
     "name": "stdout",
     "output_type": "stream",
     "text": [
      "[[1, 2, 3], [5, 3, 6], [9, 6, 5]]\n",
      "<class 'list'> \n",
      "\n",
      "[[1 2 3]\n",
      " [5 3 6]\n",
      " [9 6 5]]\n",
      "<class 'numpy.ndarray'>\n"
     ]
    }
   ],
   "source": [
    "a = [[1,2,3],[5,3,6],[9,6,5]] \n",
    "b = np.array(a) \n",
    "\n",
    "print(a)\n",
    "print(type(a),\"\\n\")\n",
    "\n",
    "print(b)\n",
    "print(type(b))"
   ]
  },
  {
   "cell_type": "markdown",
   "metadata": {},
   "source": [
    "> ### **three dim** >>"
   ]
  },
  {
   "cell_type": "code",
   "execution_count": 4,
   "metadata": {},
   "outputs": [
    {
     "name": "stdout",
     "output_type": "stream",
     "text": [
      "[[[1, 2, 3], [5, 3, 6], [9, 6, 5]]]\n",
      "<class 'list'> \n",
      "\n",
      "[[[1 2 3]\n",
      "  [5 3 6]\n",
      "  [9 6 5]]]\n",
      "<class 'numpy.ndarray'>\n"
     ]
    }
   ],
   "source": [
    "a = [[[1,2,3],[5,3,6],[9,6,5]]] \n",
    "b = np.array(a) \n",
    "\n",
    "print(a)\n",
    "print(type(a),\"\\n\")\n",
    "\n",
    "print(b)\n",
    "print(type(b))"
   ]
  },
  {
   "cell_type": "markdown",
   "metadata": {},
   "source": [
    "<div style=\"background-color:rgb(85, 78, 79) ; color: #ffffff; width: 100%; height: 50px; text-align: center; font-weight: bold; line-height: 50px; margin: 10px 0; font-size: 24px;\">\n",
    "ndim\n",
    "</div>"
   ]
  },
  {
   "cell_type": "code",
   "execution_count": 5,
   "metadata": {},
   "outputs": [
    {
     "name": "stdout",
     "output_type": "stream",
     "text": [
      "a is 0 dimension\n",
      "b is 1 dimension\n",
      "c is 2 dimension\n",
      "d is 3 dimension\n"
     ]
    }
   ],
   "source": [
    "a = np.array(10)\n",
    "print(f\"a is {a.ndim} dimension\")\n",
    "\n",
    "b = np.array([10 , 20]) \n",
    "print(f\"b is {b.ndim} dimension\")\n",
    "\n",
    "c = np.array([ [1, 2] , [3, 4] ] )\n",
    "print(f\"c is {c.ndim} dimension\")\n",
    "\n",
    "d = np.array([ [[5, 6],[7, 9]] , [[1, 3],[4, 8]] ] )\n",
    "print(f\"d is {d.ndim} dimension\")"
   ]
  },
  {
   "cell_type": "code",
   "execution_count": 6,
   "metadata": {},
   "outputs": [
    {
     "name": "stdout",
     "output_type": "stream",
     "text": [
      "[[[1 2 3]]]\n",
      "3\n",
      "1\n"
     ]
    }
   ],
   "source": [
    "my_custom_array = np.array([1, 2, 3], ndmin=3) \n",
    "\n",
    "print(my_custom_array)\n",
    "print(my_custom_array.ndim)\n",
    "print(my_custom_array[0, 0, 0])"
   ]
  },
  {
   "cell_type": "markdown",
   "metadata": {},
   "source": [
    "<div style=\"background-color:rgb(85, 78, 79) ; color: #ffffff; width: 100%; height: 50px; text-align: center; font-weight: bold; line-height: 50px; margin: 10px 0; font-size: 24px;\">\n",
    "dtype\n",
    "</div>"
   ]
  },
  {
   "cell_type": "code",
   "execution_count": 7,
   "metadata": {},
   "outputs": [
    {
     "name": "stdout",
     "output_type": "stream",
     "text": [
      "float64\n",
      "float32\n",
      "int32\n",
      "int32\n"
     ]
    }
   ],
   "source": [
    "my_array4   = np.array([1, 2, 3], dtype=float) \n",
    "my_array4_1 = np.array([1, 2, 3], dtype=\"f\") \n",
    "\n",
    "my_array5   = np.array([1.5, 20.15, 3.601], dtype=int) \n",
    "my_array5_1 = np.array([1.5, 20.15, 3.601], dtype=\"i\") \n",
    "\n",
    "# my_array6   = np.array([\"Osama_Elzero\", \"B\", \"Ahmed\"], dtype=int)\n",
    "\n",
    "print(my_array4.dtype) \n",
    "print(my_array4_1.dtype)\n",
    "\n",
    "print(my_array5.dtype) \n",
    "print(my_array5_1.dtype)\n",
    "\n",
    "# print(my_array6.dtype) # Value Error"
   ]
  },
  {
   "cell_type": "markdown",
   "metadata": {},
   "source": [
    "<div style=\"background-color:rgb(85, 78, 79) ; color: #ffffff; width: 100%; height: 50px; text-align: center; font-weight: bold; line-height: 50px; margin: 10px 0; font-size: 24px;\">\n",
    "astype\n",
    "</div>"
   ]
  },
  {
   "cell_type": "markdown",
   "metadata": {},
   "source": [
    "#### 👉 To change datatype"
   ]
  },
  {
   "cell_type": "code",
   "execution_count": 8,
   "metadata": {},
   "outputs": [
    {
     "name": "stdout",
     "output_type": "stream",
     "text": [
      "int32\n",
      "------\n",
      "float64\n",
      "------\n",
      "bool\n"
     ]
    }
   ],
   "source": [
    "my_array7 = np.array([0, 1, 2, 3, 0, 4]) \n",
    "\n",
    "print(my_array7.dtype) \n",
    "print('------')\n",
    "my_array7 = my_array7.astype('float') \n",
    "print(my_array7.dtype)\n",
    "print('------')\n",
    "my_array7 = my_array7.astype('bool') \n",
    "print(my_array7.dtype) "
   ]
  },
  {
   "cell_type": "markdown",
   "metadata": {},
   "source": [
    "<div style=\"background-color:rgb(85, 78, 79) ; color: #ffffff; width: 100%; height: 50px; text-align: center; font-weight: bold; line-height: 50px; margin: 10px 0; font-size: 24px;\">\n",
    "compare [shape - size - dtype - ndim -len]\n",
    "</div>"
   ]
  },
  {
   "cell_type": "code",
   "execution_count": 9,
   "metadata": {},
   "outputs": [
    {
     "name": "stdout",
     "output_type": "stream",
     "text": [
      "[[1 2 3 4]\n",
      " [5 6 7 8]]\n",
      "-------\n",
      "(2, 4)\n",
      "8\n",
      "int32\n",
      "-------\n",
      "2\n",
      "2\n"
     ]
    }
   ],
   "source": [
    "first__list = [1, 2, 3, 4]         \n",
    "second_list = [5, 6, 7, 8]\n",
    "two_d_array = np.array([first__list,second_list])\n",
    "\n",
    "print(two_d_array)\n",
    "print('-------')\n",
    "print(two_d_array.shape)   ## return row and column\n",
    "print(two_d_array.size)    ## return size\n",
    "print(two_d_array.dtype)   ## return datatype\n",
    "print('-------')\n",
    "print(two_d_array.ndim)\n",
    "print(len(two_d_array))    "
   ]
  },
  {
   "cell_type": "markdown",
   "metadata": {},
   "source": [
    "<div style=\"background-color:rgb(85, 78, 79) ; color: #ffffff; width: 100%; height: 50px; text-align: center; font-weight: bold; line-height: 50px; margin: 10px 0; font-size: 24px;\">\n",
    "ones - zeros\n",
    "</div>"
   ]
  },
  {
   "cell_type": "code",
   "execution_count": 10,
   "metadata": {},
   "outputs": [
    {
     "name": "stdout",
     "output_type": "stream",
     "text": [
      "[[1. 1. 1. 1.]\n",
      " [1. 1. 1. 1.]]\n",
      "----------------------\n",
      "[[0. 0. 0. 0.]\n",
      " [0. 0. 0. 0.]]\n"
     ]
    }
   ],
   "source": [
    "print(np.ones([2,4]))           # = print(np.ones(shape=[2,4]))\n",
    "print(\"----------------------\")\n",
    "print(np.zeros([2,4]))          # = print(np.zeros(shape=[2,3]))"
   ]
  },
  {
   "cell_type": "markdown",
   "metadata": {},
   "source": [
    "<div style=\"background-color:rgb(85, 78, 79) ; color: #ffffff; width: 100%; height: 50px; text-align: center; font-weight: bold; line-height: 50px; margin: 10px 0; font-size: 24px;\">\n",
    "eye - identity\n",
    "</div>"
   ]
  },
  {
   "cell_type": "code",
   "execution_count": 11,
   "metadata": {},
   "outputs": [
    {
     "name": "stdout",
     "output_type": "stream",
     "text": [
      "[[0. 0. 1. 0. 0.]\n",
      " [0. 0. 0. 1. 0.]\n",
      " [0. 0. 0. 0. 1.]]\n",
      "----------------------\n",
      "[[1. 0. 0. 0. 0.]\n",
      " [0. 1. 0. 0. 0.]\n",
      " [0. 0. 1. 0. 0.]\n",
      " [0. 0. 0. 1. 0.]\n",
      " [0. 0. 0. 0. 1.]]\n"
     ]
    }
   ],
   "source": [
    "print ( np.eye( N = 3,            ## N => Number of rows\n",
    "                M = 5,            ## M => Number of columns\n",
    "                k = 2))           ## k => Index of the diagonal (main diagonal (0) is default)\n",
    "print(\"----------------------\")\n",
    "print(np.identity(n = 5))       ## identity(n=Size of the array)"
   ]
  },
  {
   "cell_type": "markdown",
   "metadata": {},
   "source": [
    "<div style=\"background-color:rgb(85, 78, 79) ; color: #ffffff; width: 100%; height: 50px; text-align: center; font-weight: bold; line-height: 50px; margin: 10px 0; font-size: 24px;\">\n",
    "diag\n",
    "</div>"
   ]
  },
  {
   "cell_type": "code",
   "execution_count": 12,
   "metadata": {},
   "outputs": [
    {
     "name": "stdout",
     "output_type": "stream",
     "text": [
      "[[ 5  0  0  0  0]\n",
      " [ 0 12  0  0  0]\n",
      " [ 0  0  4  0  0]\n",
      " [ 0  0  0 -1  0]\n",
      " [ 0  0  0  0  3]]\n",
      "-------\n",
      "[[ 0  0  0  5  0  0  0  0]\n",
      " [ 0  0  0  0 12  0  0  0]\n",
      " [ 0  0  0  0  0  4  0  0]\n",
      " [ 0  0  0  0  0  0 -1  0]\n",
      " [ 0  0  0  0  0  0  0  3]\n",
      " [ 0  0  0  0  0  0  0  0]\n",
      " [ 0  0  0  0  0  0  0  0]\n",
      " [ 0  0  0  0  0  0  0  0]]\n"
     ]
    }
   ],
   "source": [
    "a = np.diag(np.array([5,12,4,-1,3])) \n",
    "b = np.diag(np.array([5,12,4,-1,3]),k=3) \n",
    "\n",
    "print(a) \n",
    "print(\"-------\")\n",
    "print(b) "
   ]
  },
  {
   "cell_type": "markdown",
   "metadata": {},
   "source": [
    "<div style=\"background-color:rgb(85, 78, 79) ; color: #ffffff; width: 100%; height: 50px; text-align: center; font-weight: bold; line-height: 50px; margin: 10px 0; font-size: 24px;\">\n",
    "full\n",
    "</div>"
   ]
  },
  {
   "cell_type": "code",
   "execution_count": 13,
   "metadata": {},
   "outputs": [
    {
     "name": "stdout",
     "output_type": "stream",
     "text": [
      "[25 25 25 25]\n",
      "-------\n",
      "[[25 25 25]\n",
      " [25 25 25]]\n"
     ]
    }
   ],
   "source": [
    "a = np.full(4,25) \n",
    "b = np.full((2,3),25) \n",
    "\n",
    "print(a) \n",
    "print(\"-------\")\n",
    "print(b) "
   ]
  },
  {
   "cell_type": "markdown",
   "metadata": {},
   "source": [
    "<div style=\"background-color:rgb(85, 78, 79) ; color: #ffffff; width: 100%; height: 50px; text-align: center; font-weight: bold; line-height: 50px; margin: 10px 0; font-size: 24px;\">\n",
    "empty\n",
    "</div>"
   ]
  },
  {
   "cell_type": "code",
   "execution_count": 14,
   "metadata": {},
   "outputs": [
    {
     "name": "stdout",
     "output_type": "stream",
     "text": [
      "[[0. 1.]\n",
      " [2. 3.]\n",
      " [0. 4.]]\n"
     ]
    }
   ],
   "source": [
    "a = np.empty((3,2)) \n",
    "print(a) "
   ]
  },
  {
   "cell_type": "markdown",
   "metadata": {},
   "source": [
    "<div style=\"background-color:rgb(85, 78, 79) ; color: #ffffff; width: 100%; height: 50px; text-align: center; font-weight: bold; line-height: 50px; margin: 10px 0; font-size: 24px;\">\n",
    "Array Indexing & Slicing\n",
    "</div>"
   ]
  },
  {
   "cell_type": "code",
   "execution_count": 15,
   "metadata": {},
   "outputs": [
    {
     "name": "stdout",
     "output_type": "stream",
     "text": [
      "(1)\n",
      "[1 2 3 4 5 6]\n",
      "----------------------\n",
      "(2)\n",
      "[[ 1  2  3  4  5  6]\n",
      " [ 7  8  9 10 11 12]\n",
      " [13 14 15 16 17 18]]\n",
      "----------------------\n",
      "(3)\n",
      "[13 14 15 16 17 18]\n",
      "----------------------\n",
      "(4)\n",
      "[[ 7  8  9 10 11 12]\n",
      " [13 14 15 16 17 18]]\n",
      "----------------------\n",
      "(5)\n",
      "11\n",
      "----------------------\n",
      "(6)\n",
      "[[11 12]\n",
      " [17 18]]\n",
      "----------------------\n",
      "(7)\n",
      "[[ 3  4]\n",
      " [ 9 10]]\n",
      "----------------------\n",
      "(8)\n",
      "[[13 14 15 16 17 18]\n",
      " [ 7  8  9 10 11 12]\n",
      " [ 1  2  3  4  5  6]]\n",
      "----------------------\n",
      "(9)\n",
      "[[18 17 16 15 14 13]\n",
      " [12 11 10  9  8  7]\n",
      " [ 6  5  4  3  2  1]]\n"
     ]
    }
   ],
   "source": [
    "one_d_array = np.array([1,2,3,4,5,6])\n",
    "two_d_array = np.array([one_d_array, one_d_array + 6, one_d_array + 12])\n",
    "\n",
    "print(f\"(1)\\n{one_d_array}\")\n",
    "print(\"----------------------\")\n",
    "print(f\"(2)\\n{two_d_array}\")\n",
    "print(\"----------------------\")\n",
    "print(f\"(3)\\n{two_d_array[2]}\")           # Get the item at index 2\n",
    "print(\"----------------------\")\n",
    "print(f\"(4)\\n{two_d_array[1:]}\")          # Get a slice from index 3 to the end\n",
    "print(\"----------------------\")\n",
    "print(f\"(5)\\n{two_d_array[1,4]}\")\n",
    "print(\"----------------------\")\n",
    "print(f\"(6)\\n{two_d_array[1:, 4:]}\")\n",
    "print(\"----------------------\")\n",
    "print(f\"(7)\\n{two_d_array[0:2,2:4]}\")\n",
    "print(\"----------------------\")\n",
    "print(f\"(8)\\n{two_d_array[::-1]}\")        # Slice backwards to reverse the array\n",
    "print(\"----------------------\")\n",
    "print(f\"(9)\\n{two_d_array[::-1,::-1]}\")   # Reverse both dimensions"
   ]
  }
 ],
 "metadata": {
  "kernelspec": {
   "display_name": "base",
   "language": "python",
   "name": "python3"
  },
  "language_info": {
   "codemirror_mode": {
    "name": "ipython",
    "version": 3
   },
   "file_extension": ".py",
   "mimetype": "text/x-python",
   "name": "python",
   "nbconvert_exporter": "python",
   "pygments_lexer": "ipython3",
   "version": "3.12.3"
  }
 },
 "nbformat": 4,
 "nbformat_minor": 2
}
