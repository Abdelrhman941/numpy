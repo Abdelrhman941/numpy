{
 "cells": [
  {
   "cell_type": "markdown",
   "metadata": {},
   "source": [
    "# NumPy Exercises"
   ]
  },
  {
   "cell_type": "markdown",
   "metadata": {},
   "source": [
    "## 1. Create a 1D array of numbers from 0 to 9."
   ]
  },
  {
   "cell_type": "code",
   "execution_count": null,
   "metadata": {},
   "outputs": [],
   "source": [
    "import numpy as np\n",
    "arr_1d = np.arange(10)\n",
    "arr_1d"
   ]
  },
  {
   "cell_type": "markdown",
   "metadata": {},
   "source": [
    "## 2. Create a 2D array with shape (3, 3) filled with random numbers."
   ]
  },
  {
   "cell_type": "code",
   "execution_count": null,
   "metadata": {},
   "outputs": [],
   "source": [
    "arr_2d = np.random.random((3, 3))\n",
    "arr_2d"
   ]
  },
  {
   "cell_type": "markdown",
   "metadata": {},
   "source": [
    "## 3. Perform element-wise addition, subtraction, multiplication, and division on two arrays."
   ]
  },
  {
   "cell_type": "code",
   "execution_count": null,
   "metadata": {},
   "outputs": [],
   "source": [
    "arr1 = np.array([1, 2, 3])\n",
    "arr2 = np.array([4, 5, 6])\n",
    "\n",
    "addition = arr1 + arr2\n",
    "subtraction = arr1 - arr2\n",
    "multiplication = arr1 * arr2\n",
    "division = arr1 / arr2\n",
    "\n",
    "addition, subtraction, multiplication, division"
   ]
  },
  {
   "cell_type": "markdown",
   "metadata": {},
   "source": [
    "## 4. Find the mean, median, and standard deviation of an array."
   ]
  },
  {
   "cell_type": "code",
   "execution_count": null,
   "metadata": {},
   "outputs": [],
   "source": [
    "arr = np.array([1, 2, 3, 4, 5, 6, 7, 8, 9, 10])\n",
    "\n",
    "mean = np.mean(arr)\n",
    "median = np.median(arr)\n",
    "std_dev = np.std(arr)\n",
    "\n",
    "mean, median, std_dev"
   ]
  },
  {
   "cell_type": "markdown",
   "metadata": {},
   "source": [
    "## 5. Reshape a 1D array into a 2D array with shape (2, 5)."
   ]
  },
  {
   "cell_type": "code",
   "execution_count": null,
   "metadata": {},
   "outputs": [],
   "source": [
    "arr_reshaped = arr.reshape((2, 5))\n",
    "arr_reshaped"
   ]
  },
  {
   "cell_type": "markdown",
   "metadata": {},
   "source": [
    "## 6. Stack two arrays vertically and horizontally."
   ]
  },
  {
   "cell_type": "code",
   "execution_count": null,
   "metadata": {},
   "outputs": [],
   "source": [
    "arr_vstack = np.vstack((arr1, arr2))\n",
    "arr_hstack = np.hstack((arr1, arr2))\n",
    "\n",
    "arr_vstack, arr_hstack"
   ]
  },
  {
   "cell_type": "markdown",
   "metadata": {},
   "source": [
    "## 7. Create a 3D array and access specific elements using indexing."
   ]
  },
  {
   "cell_type": "code",
   "execution_count": null,
   "metadata": {},
   "outputs": [],
   "source": [
    "arr_3d = np.random.random((3, 3, 3))\n",
    "element = arr_3d[1, 1, 1]\n",
    "arr_3d, element"
   ]
  },
  {
   "cell_type": "markdown",
   "metadata": {},
   "source": [
    "## 8. Generate a random array and sort it in ascending order."
   ]
  },
  {
   "cell_type": "code",
   "execution_count": null,
   "metadata": {},
   "outputs": [],
   "source": [
    "arr_random = np.random.random(10)\n",
    "arr_sorted = np.sort(arr_random)\n",
    "arr_sorted"
   ]
  },
  {
   "cell_type": "markdown",
   "metadata": {},
   "source": [
    "## 9. Perform matrix multiplication on two 2D arrays."
   ]
  },
  {
   "cell_type": "code",
   "execution_count": null,
   "metadata": {},
   "outputs": [],
   "source": [
    "arr1_2d = np.random.random((2, 3))\n",
    "arr2_2d = np.random.random((3, 2))\n",
    "\n",
    "matrix_multiplication = np.dot(arr1_2d, arr2_2d)\n",
    "matrix_multiplication"
   ]
  },
  {
   "cell_type": "markdown",
   "metadata": {},
   "source": [
    "## 10. Find the unique elements and their counts in an array."
   ]
  },
  {
   "cell_type": "code",
   "execution_count": null,
   "metadata": {},
   "outputs": [],
   "source": [
    "arr_with_duplicates = np.array([1, 2, 2, 3, 3, 3, 4, 4, 4, 4])\n",
    "unique_elements, counts = np.unique(arr_with_duplicates, return_counts=True)\n",
    "unique_elements, counts"
   ]
  }
 ],
 "metadata": {
  "kernelspec": {
   "display_name": "Python 3",
   "language": "python",
   "name": "python3"
  },
  "language_info": {
   "codemirror_mode": {
    "name": "ipython",
    "version": 3
   },
   "file_extension": ".py",
   "mimetype": "text/x-python",
   "name": "python",
   "nbconvert_exporter": "python",
   "pygments_lexer": "ipython3",
   "version": "3.8.5"
  }
 },
 "nbformat": 4,
 "nbformat_minor": 4
}
