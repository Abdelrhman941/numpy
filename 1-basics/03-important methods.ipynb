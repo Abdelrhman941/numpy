{
 "cells": [
  {
   "cell_type": "code",
   "execution_count": 1,
   "metadata": {},
   "outputs": [],
   "source": [
    "import numpy as np          # type: ignore"
   ]
  },
  {
   "cell_type": "markdown",
   "metadata": {},
   "source": [
    "<div style=\"background-color:rgb(85, 78, 79) ; color: #ffffff; width: 100%; height: 50px; text-align: center; font-weight: bold; line-height: 50px; margin: 10px 0; font-size: 24px;\">\n",
    "arange\n",
    "</div>"
   ]
  },
  {
   "cell_type": "markdown",
   "metadata": {},
   "source": [
    "#### 👉 arange(start,end,steps)"
   ]
  },
  {
   "cell_type": "code",
   "execution_count": 2,
   "metadata": {},
   "outputs": [
    {
     "name": "stdout",
     "output_type": "stream",
     "text": [
      "[0 1 2 3 4 5 6 7 8 9]\n",
      "-----------------\n",
      "[10 15 20 25 30 35 40 45 50 55 60 65 70 75 80 85 90 95]\n",
      "----------------\n",
      "[100  95  90  85  80  75  70  65  60  55  50  45  40  35  30  25  20  15]\n"
     ]
    }
   ],
   "source": [
    "print(np.arange(10))\n",
    "print(\"-----------------\")\n",
    "print(np.arange(10,100,5))\n",
    "print(\"----------------\")\n",
    "print(np.arange(100,10,-5))"
   ]
  },
  {
   "cell_type": "markdown",
   "metadata": {},
   "source": [
    "<div style=\"background-color:rgb(85, 78, 79) ; color: #ffffff; width: 100%; height: 50px; text-align: center; font-weight: bold; line-height: 50px; margin: 10px 0; font-size: 24px;\">\n",
    "reshape\n",
    "</div>"
   ]
  },
  {
   "cell_type": "code",
   "execution_count": 3,
   "metadata": {},
   "outputs": [
    {
     "name": "stdout",
     "output_type": "stream",
     "text": [
      "[[ 0  1  2  3  4  5]\n",
      " [ 6  7  8  9 10 11]\n",
      " [12 13 14 15 16 17]]\n",
      "-------\n",
      "[[[ 0  1  2]\n",
      "  [ 3  4  5]\n",
      "  [ 6  7  8]]\n",
      "\n",
      " [[ 9 10 11]\n",
      "  [12 13 14]\n",
      "  [15 16 17]]]\n"
     ]
    }
   ],
   "source": [
    "a =np.arange(18).reshape(3,6) \n",
    "print(a) \n",
    "print('-------')\n",
    "\n",
    "b =np.arange(18).reshape(2,3,3) \n",
    "print(b) "
   ]
  },
  {
   "cell_type": "markdown",
   "metadata": {},
   "source": [
    "<div style=\"background-color:rgb(85, 78, 79) ; color: #ffffff; width: 100%; height: 50px; text-align: center; font-weight: bold; line-height: 50px; margin: 10px 0; font-size: 24px;\">\n",
    "linspace\n",
    "</div>"
   ]
  },
  {
   "cell_type": "code",
   "execution_count": 4,
   "metadata": {},
   "outputs": [
    {
     "name": "stdout",
     "output_type": "stream",
     "text": [
      "[  1.  12.  23.  34.  45.  56.  67.  78.  89. 100.]\n"
     ]
    }
   ],
   "source": [
    "print(np.linspace(1,100,10))  "
   ]
  },
  {
   "cell_type": "markdown",
   "metadata": {},
   "source": [
    "<div style=\"background-color:rgb(85, 78, 79) ; color: #ffffff; width: 100%; height: 50px; text-align: center; font-weight: bold; line-height: 50px; margin: 10px 0; font-size: 24px;\">\n",
    "sort & argsort\n",
    "</div>"
   ]
  },
  {
   "cell_type": "markdown",
   "metadata": {},
   "source": [
    "#### 👉 ```np.sort```: Returns the sorted array.\n",
    "#### 👉 ```np.argsort```: Returns the indices that can be used to sort the array"
   ]
  },
  {
   "cell_type": "code",
   "execution_count": 5,
   "metadata": {},
   "outputs": [
    {
     "name": "stdout",
     "output_type": "stream",
     "text": [
      "[1 2 3 4 5 7 9]\n",
      "=================================\n",
      "[[3 5 7 2]\n",
      " [9 4 1 6]]\n",
      "=================================\n",
      "[[3 4 1 2]\n",
      " [9 5 7 6]]\n",
      "-------\n",
      "[[2 3 5 7]\n",
      " [1 4 6 9]]\n",
      "-------\n",
      "[1 2 3 4 5 6 7 9]\n"
     ]
    }
   ],
   "source": [
    "first = np.array([3,5,7,2,9,4,1])\n",
    "sorted_first = np.sort(first)\n",
    "second = np.array([[3,5,7,2],[9,4,1,6]])\n",
    "\n",
    "print(sorted_first)\n",
    "print(\"=================================\")\n",
    "print(second)\n",
    "print(\"=================================\")\n",
    "print(np.sort(second,axis=0))\n",
    "print(\"-------\")\n",
    "print(np.sort(second,axis=1))\n",
    "print(\"-------\")\n",
    "print(np.sort(second,axis=None)) # stretch array"
   ]
  },
  {
   "cell_type": "code",
   "execution_count": 6,
   "metadata": {},
   "outputs": [
    {
     "name": "stdout",
     "output_type": "stream",
     "text": [
      "[1 2 3]\n",
      "[1 2 0]\n",
      "[1 2 3]\n"
     ]
    }
   ],
   "source": [
    "arr = np.array([3, 1, 2])\n",
    "sorted_arr = np.sort(arr)\n",
    "\n",
    "print(sorted_arr)                   # Output: [1 2 3]\n",
    "############\n",
    "indices = np.argsort(arr)\n",
    "print(indices)                      # Output: [1 2 0]\n",
    "############\n",
    "sorted_arr_using_indices = arr[np.argsort(arr)]\n",
    "print(sorted_arr_using_indices)     # Output: [1 2 3]"
   ]
  },
  {
   "cell_type": "markdown",
   "metadata": {},
   "source": [
    "<div style=\"background-color:rgb(85, 78, 79) ; color: #ffffff; width: 100%; height: 50px; text-align: center; font-weight: bold; line-height: 50px; margin: 10px 0; font-size: 24px;\">\n",
    "ravel & flatten\n",
    "</div>"
   ]
  },
  {
   "cell_type": "code",
   "execution_count": 7,
   "metadata": {},
   "outputs": [
    {
     "name": "stdout",
     "output_type": "stream",
     "text": [
      "[[ 1  2  3  4  5  6]\n",
      " [ 7  8  9 10 11 12]\n",
      " [13 14 15 16 17 18]]\n",
      "----------------------\n",
      "[ 1  2  3  4  5  6  7  8  9 10 11 12 13 14 15 16 17 18]\n",
      "----------------------\n",
      "[ 1  2  3  4  5  6  7  8  9 10 11 12 13 14 15 16 17 18]\n",
      "----------------------\n",
      "[ 1  7 13  2  8 14  3  9 15  4 10 16  5 11 17  6 12 18]\n",
      "----------------------\n",
      "[ 1  2  3  4  5  6  7  8  9 10 11 12 13 14 15 16 17 18]\n",
      "----------------------\n",
      "[ 1  7 13  2  8 14  3  9 15  4 10 16  5 11 17  6 12 18]\n"
     ]
    }
   ],
   "source": [
    "one_d_array = np.array([1,2,3,4,5,6])\n",
    "two_d_array = np.array([one_d_array, one_d_array + 6, one_d_array + 12])\n",
    "\n",
    "print(two_d_array)\n",
    "print(\"----------------------\")\n",
    "print(two_d_array.reshape(-1))\n",
    "print(\"----------------------\")\n",
    "print(np.ravel(a=two_d_array,order='C'))  # C (by rows)\n",
    "print(\"----------------------\")\n",
    "print(np.ravel(a=two_d_array,order='F'))  # F (by columns)\n",
    "print(\"----------------------\")\n",
    "\n",
    "# flatten\n",
    "print(two_d_array.flatten(\"C\"))  # row [left to right]\n",
    "print(\"----------------------\")\n",
    "print(two_d_array.flatten(\"F\"))  # col [up to down] "
   ]
  },
  {
   "cell_type": "markdown",
   "metadata": {},
   "source": [
    "<div style=\"background-color:rgb(85, 78, 79) ; color: #ffffff; width: 100%; height: 50px; text-align: center; font-weight: bold; line-height: 50px; margin: 10px 0; font-size: 24px;\">\n",
    "rot90\n",
    "</div>"
   ]
  },
  {
   "cell_type": "markdown",
   "metadata": {},
   "source": [
    "#### 👉 k=Number of 90 degree rotations [Counterclockwise <^]"
   ]
  },
  {
   "cell_type": "code",
   "execution_count": 8,
   "metadata": {},
   "outputs": [
    {
     "name": "stdout",
     "output_type": "stream",
     "text": [
      "[[ 6 12 18]\n",
      " [ 5 11 17]\n",
      " [ 4 10 16]\n",
      " [ 3  9 15]\n",
      " [ 2  8 14]\n",
      " [ 1  7 13]]\n",
      "----------------------\n",
      "[[18 17 16 15 14 13]\n",
      " [12 11 10  9  8  7]\n",
      " [ 6  5  4  3  2  1]]\n"
     ]
    }
   ],
   "source": [
    "print(np.rot90(two_d_array,k=1))  \n",
    "print(\"----------------------\")\n",
    "print(np.rot90(two_d_array,k=2))"
   ]
  },
  {
   "cell_type": "markdown",
   "metadata": {},
   "source": [
    "<div style=\"background-color:rgb(85, 78, 79) ; color: #ffffff; width: 100%; height: 50px; text-align: center; font-weight: bold; line-height: 50px; margin: 10px 0; font-size: 24px;\">\n",
    "roll\n",
    "</div>"
   ]
  },
  {
   "cell_type": "code",
   "execution_count": 9,
   "metadata": {},
   "outputs": [
    {
     "name": "stdout",
     "output_type": "stream",
     "text": [
      "[[ 1  2  3  4  5  6]\n",
      " [ 7  8  9 10 11 12]\n",
      " [13 14 15 16 17 18]] \n",
      "========\n",
      "[[ 5  6  1  2  3  4]\n",
      " [11 12  7  8  9 10]\n",
      " [17 18 13 14 15 16]]\n"
     ]
    }
   ],
   "source": [
    "print(two_d_array,\"\\n========\")\n",
    "print(np.roll(a= two_d_array, shift = 2,axis=1))    # shift elements 2 positions In each row"
   ]
  },
  {
   "cell_type": "markdown",
   "metadata": {},
   "source": [
    "<div style=\"background-color:rgb(85, 78, 79) ; color: #ffffff; width: 100%; height: 50px; text-align: center; font-weight: bold; line-height: 50px; margin: 10px 0; font-size: 24px;\">\n",
    "flip , Transpose\n",
    "</div>"
   ]
  },
  {
   "cell_type": "markdown",
   "metadata": {},
   "source": [
    "#### 👉 flip[lr/ud]"
   ]
  },
  {
   "cell_type": "code",
   "execution_count": 10,
   "metadata": {},
   "outputs": [
    {
     "name": "stdout",
     "output_type": "stream",
     "text": [
      "[[ 1  2  3  4  5  6]\n",
      " [ 7  8  9 10 11 12]\n",
      " [13 14 15 16 17 18]]\n",
      "----------------------\n",
      "[[ 6  5  4  3  2  1]\n",
      " [12 11 10  9  8  7]\n",
      " [18 17 16 15 14 13]]\n",
      "----------------------\n",
      "[[13 14 15 16 17 18]\n",
      " [ 7  8  9 10 11 12]\n",
      " [ 1  2  3  4  5  6]]\n",
      "----------------------\n",
      "[[ 1  7 13]\n",
      " [ 2  8 14]\n",
      " [ 3  9 15]\n",
      " [ 4 10 16]\n",
      " [ 5 11 17]\n",
      " [ 6 12 18]]\n"
     ]
    }
   ],
   "source": [
    "print(two_d_array)\n",
    "print(\"----------------------\")\n",
    "print(np.fliplr(two_d_array))       # flip left-right    reverse \n",
    "print(\"----------------------\")\n",
    "print(np.flipud(two_d_array))       # flip up-down       reverse\n",
    "print(\"----------------------\")\n",
    "print(two_d_array.T)                # Transpose"
   ]
  },
  {
   "cell_type": "markdown",
   "metadata": {},
   "source": [
    "<div style=\"background-color:rgb(85, 78, 79) ; color: #ffffff; width: 100%; height: 50px; text-align: center; font-weight: bold; line-height: 50px; margin: 10px 0; font-size: 24px;\">\n",
    "concatenate , hstack , vstack\n",
    "</div>"
   ]
  },
  {
   "cell_type": "markdown",
   "metadata": {},
   "source": [
    "#### 👉 concatenate((arr1,arr2), axis= __ )"
   ]
  },
  {
   "cell_type": "code",
   "execution_count": 11,
   "metadata": {},
   "outputs": [
    {
     "name": "stdout",
     "output_type": "stream",
     "text": [
      "[[4 8]\n",
      " [6 1]]\n",
      "-----\n",
      "[[3 5]\n",
      " [7 2]]\n",
      "--------------------\n",
      "[[4 8]\n",
      " [6 1]\n",
      " [3 5]\n",
      " [7 2]]\n",
      "--------------------\n",
      "[[4 8]\n",
      " [6 1]\n",
      " [3 5]\n",
      " [7 2]]\n"
     ]
    }
   ],
   "source": [
    "a = np.array([ [4, 8], [6, 1] ])\n",
    "b = np.array([ [3, 5], [7, 2] ])\n",
    "\n",
    "print(a) \n",
    "print(\"-----\")\n",
    "print(b)\n",
    "print(\"--------------------\")\n",
    "print(np.concatenate((a,b), axis=0))      ## axis=0   (row)\n",
    "print(\"--------------------\")\n",
    "print(np.vstack((a,b)))"
   ]
  },
  {
   "cell_type": "code",
   "execution_count": 12,
   "metadata": {},
   "outputs": [
    {
     "name": "stdout",
     "output_type": "stream",
     "text": [
      "[[4 8 3 5]\n",
      " [6 1 7 2]]\n",
      "--------------------\n",
      "[[4 8 3 5]\n",
      " [6 1 7 2]]\n",
      "-----\n",
      "[4 8 6 1 3 5 7 2]\n",
      "------------------\n",
      "[4 8 6 1 3 5 7 2]\n"
     ]
    }
   ],
   "source": [
    "print(np.concatenate((a,b), axis=1))      ## axis=1   (col)\n",
    "print(\"--------------------\")\n",
    "print(np.hstack((a,b)))\n",
    "print(\"-----\")\n",
    "\n",
    "x=np.concatenate((a,b), axis=None)        ## = ravel by row\n",
    "print(x)\n",
    "print(\"------------------\")\n",
    "print(np.ravel(a=x,order='C'))"
   ]
  },
  {
   "cell_type": "code",
   "execution_count": 13,
   "metadata": {},
   "outputs": [
    {
     "name": "stdout",
     "output_type": "stream",
     "text": [
      "[[1 4]\n",
      " [2 5]\n",
      " [3 6]]\n",
      "-----\n",
      "[[1 2 3]\n",
      " [4 5 6]]\n"
     ]
    }
   ],
   "source": [
    "arr1 = np.array([1, 2, 3])\n",
    "arr2 = np.array([4, 5, 6])\n",
    "\n",
    "arrx = np.stack((arr1, arr2), axis=1)\n",
    "arry = np.stack((arr1, arr2), axis=0)\n",
    "\n",
    "print(arrx)\n",
    "print(\"-----\")\n",
    "print(arry)"
   ]
  },
  {
   "cell_type": "markdown",
   "metadata": {},
   "source": [
    "<div style=\"background-color:rgb(85, 78, 79) ; color: #ffffff; width: 100%; height: 50px; text-align: center; font-weight: bold; line-height: 50px; margin: 10px 0; font-size: 24px;\">\n",
    "split\n",
    "</div>"
   ]
  },
  {
   "cell_type": "code",
   "execution_count": 14,
   "metadata": {},
   "outputs": [
    {
     "name": "stdout",
     "output_type": "stream",
     "text": [
      "[11 22 33] [44 55 66] [77 88]\n",
      "[11] [22 33 44 55] [66 77 88]\n",
      "[] [11 22 33] [44 55 66 77 88]\n",
      "[11 22 33 44 55 66] [] [44 55 66 77 88]\n",
      "[11 22 33 44] [] [11 22 33 44 55 66 77 88]\n"
     ]
    }
   ],
   "source": [
    "x = [11,22,33,44,55,66,77,88]\n",
    "#    0  1  2  3  4  5  6  7\n",
    "\n",
    "x1, x2, x3 = np.split(x, (3,6))\n",
    "print(x1,x2,x3)\n",
    "\n",
    "x1, x2, x3 = np.split(x, (1,5)) \n",
    "print(x1, x2, x3)\n",
    "\n",
    "x1, x2, x3 = np.split(x, (0,3)) \n",
    "print(x1, x2, x3)\n",
    "\n",
    "x1, x2, x3 = np.split(x, (6,3)) \n",
    "print(x1, x2, x3)\n",
    "\n",
    "x1, x2, x3 = np.split(x, (4,0)) \n",
    "print(x1, x2, x3)"
   ]
  },
  {
   "cell_type": "code",
   "execution_count": 15,
   "metadata": {},
   "outputs": [
    {
     "name": "stdout",
     "output_type": "stream",
     "text": [
      "[4 8 6 1 3 5 7 2]\n",
      "-----\n",
      "[[4 8 6 1]\n",
      " [3 5 7 2]]\n",
      "-----\n",
      "[array([4, 8, 6, 1]), array([3, 5, 7, 2])]\n",
      "-----\n",
      "[array([4, 8]), array([6, 1]), array([3, 5]), array([7, 2])]\n"
     ]
    }
   ],
   "source": [
    "x=np.concatenate((a,b), axis=None)        ## = ravel by row\n",
    "print(x)\n",
    "print(\"-----\")\n",
    "print(x.reshape(2,4))\n",
    "print(\"-----\")\n",
    "print(np.split(x,2))   # it run with array not with list\n",
    "print(\"-----\")\n",
    "print(np.split(x,4))"
   ]
  },
  {
   "cell_type": "markdown",
   "metadata": {},
   "source": [
    "<div style=\"background-color:rgb(85, 78, 79) ; color: #ffffff; width: 100%; height: 50px; text-align: center; font-weight: bold; line-height: 50px; margin: 10px 0; font-size: 24px;\">\n",
    "unique\n",
    "</div>"
   ]
  },
  {
   "cell_type": "code",
   "execution_count": 16,
   "metadata": {},
   "outputs": [
    {
     "name": "stdout",
     "output_type": "stream",
     "text": [
      "[1 2]\n"
     ]
    }
   ],
   "source": [
    "y = [2,2,2,2,1,2,1,1,2,2]\n",
    "print(np.unique(y))"
   ]
  },
  {
   "cell_type": "markdown",
   "metadata": {},
   "source": [
    "<div style=\"background-color:rgb(85, 78, 79) ; color: #ffffff; width: 100%; height: 50px; text-align: center; font-weight: bold; line-height: 50px; margin: 10px 0; font-size: 24px;\">\n",
    "where\n",
    "</div>"
   ]
  },
  {
   "cell_type": "code",
   "execution_count": 17,
   "metadata": {},
   "outputs": [
    {
     "name": "stdout",
     "output_type": "stream",
     "text": [
      "[0 1 2 3 4 5 6 7 8 9]\n",
      "(array([3], dtype=int64),)\n",
      "--------------\n",
      "[[1 2 3 4]\n",
      " [5 3 6 8]]\n",
      "(array([0, 1], dtype=int64), array([2, 1], dtype=int64))\n"
     ]
    }
   ],
   "source": [
    "x=np.arange(10)\n",
    "print(x)\n",
    "print(np.where(x==3))       # return indices\n",
    "print(\"--------------\")\n",
    "\n",
    "y=np.array([[1,2,3,4],[5,3,6,8]])\n",
    "print(y)\n",
    "print(np.where(y==3))   \n",
    "\n",
    "# (array([0, 1], dtype=int64), array([2, 1], dtype=int64))\n",
    "#         row                        column    =>so (0,2),(1,1) == 3"
   ]
  },
  {
   "cell_type": "code",
   "execution_count": 18,
   "metadata": {},
   "outputs": [
    {
     "name": "stdout",
     "output_type": "stream",
     "text": [
      "(array([0, 1, 2], dtype=int64),)\n",
      "----\n",
      "[0 0 0 1 1 1 1 1 1 1]\n"
     ]
    }
   ],
   "source": [
    "print(np.where(x<3))\n",
    "print(\"----\")\n",
    "print(np.where(x<3,0,1))   # 0 => true condition , 1 => false condition"
   ]
  },
  {
   "cell_type": "markdown",
   "metadata": {},
   "source": [
    "<div style=\"background-color:rgb(85, 78, 79) ; color: #ffffff; width: 100%; height: 50px; text-align: center; font-weight: bold; line-height: 50px; margin: 10px 0; font-size: 24px;\">\n",
    "diff\n",
    "</div>"
   ]
  },
  {
   "cell_type": "markdown",
   "metadata": {},
   "source": [
    "#### 👉 The difference between point and prev"
   ]
  },
  {
   "cell_type": "code",
   "execution_count": 19,
   "metadata": {},
   "outputs": [
    {
     "name": "stdout",
     "output_type": "stream",
     "text": [
      "[ 1  5  1 -4 -4]\n",
      "[0 0 0 0 0]\n"
     ]
    }
   ],
   "source": [
    "print(np.diff([2,3,8,9,5,1]))   \n",
    "print(np.diff([1,1,1,1,1,1]))   "
   ]
  },
  {
   "cell_type": "markdown",
   "metadata": {},
   "source": [
    "<div style=\"background-color:rgb(85, 78, 79) ; color: #ffffff; width: 100%; height: 50px; text-align: center; font-weight: bold; line-height: 50px; margin: 10px 0; font-size: 24px;\">\n",
    "compress\n",
    "</div>"
   ]
  },
  {
   "cell_type": "markdown",
   "metadata": {},
   "source": [
    "#### 👉 compress( condition or show_number_by_T_or_F, array )"
   ]
  },
  {
   "cell_type": "code",
   "execution_count": 20,
   "metadata": {},
   "outputs": [
    {
     "name": "stdout",
     "output_type": "stream",
     "text": [
      "[ 1  2  3  4  5  6  7  8  9 10 11 12 13 14 15 16 17 18 19]\n",
      "[ 5 10 15]\n",
      "[1 3 5]\n"
     ]
    }
   ],
   "source": [
    "y = np.arange(1,20)\n",
    "\n",
    "print(y)\n",
    "print(np.compress(y%5==0,y))                              # compress( condition            , array )\n",
    "print(np.compress([True,False,True,False,True,False],y))  # compress( show_number_by_T_or_F, array )"
   ]
  },
  {
   "cell_type": "markdown",
   "metadata": {},
   "source": [
    "<div style=\"background-color:rgb(85, 78, 79) ; color: #ffffff; width: 100%; height: 50px; text-align: center; font-weight: bold; line-height: 50px; margin: 10px 0; font-size: 24px;\">\n",
    "clip\n",
    "</div>"
   ]
  },
  {
   "cell_type": "markdown",
   "metadata": {},
   "source": [
    "#### 👉 clip(array,min,max) : num< min = min & num> max = max "
   ]
  },
  {
   "cell_type": "code",
   "execution_count": 21,
   "metadata": {},
   "outputs": [
    {
     "name": "stdout",
     "output_type": "stream",
     "text": [
      "[12, 23, 20, 25, 9, 2, 22, 13, 5, 18]\n",
      "[11 11 11 11  9  7 11 11  7 11]\n"
     ]
    }
   ],
   "source": [
    "z = [12,23,20,25,9,2,22,13,5,18] \n",
    "print(z)\n",
    "print(np.clip(z,7,11)) "
   ]
  },
  {
   "cell_type": "markdown",
   "metadata": {},
   "source": [
    "<div style=\"background-color:rgb(85, 78, 79) ; color: #ffffff; width: 100%; height: 50px; text-align: center; font-weight: bold; line-height: 50px; margin: 10px 0; font-size: 24px;\">\n",
    "repeat , tile\n",
    "</div>"
   ]
  },
  {
   "cell_type": "code",
   "execution_count": 22,
   "metadata": {},
   "outputs": [
    {
     "name": "stdout",
     "output_type": "stream",
     "text": [
      "[0 0 0 1 1 1 2 2 2]\n",
      "--------------\n",
      "[0 1 2 0 1 2 0 1 2]\n",
      "--------------\n",
      "(9,)\n",
      "(9,)\n"
     ]
    }
   ],
   "source": [
    "x=np.repeat([0,1,2],3)\n",
    "y=np.tile([0,1,2],3)\n",
    "\n",
    "print(x)\n",
    "print(\"--------------\")\n",
    "print(y) \n",
    "print(\"--------------\")\n",
    "print(x.shape)\n",
    "print(y.shape)"
   ]
  },
  {
   "cell_type": "code",
   "execution_count": 23,
   "metadata": {},
   "outputs": [
    {
     "name": "stdout",
     "output_type": "stream",
     "text": [
      "[[3 2]\n",
      " [3 2]\n",
      " [3 2]\n",
      " [3 2]\n",
      " [3 2]]\n",
      "--------------\n",
      "[[3 3 3 3 3 2 2 2 2 2]]\n",
      "--------------\n",
      "(5, 2)\n",
      "(1, 10)\n"
     ]
    }
   ],
   "source": [
    "arr1=np.repeat([[3,2]],5,axis=0) \n",
    "arr2=np.repeat([[3,2]],5,axis=1) \n",
    "\n",
    "print(arr1)\n",
    "print(\"--------------\")\n",
    "print(arr2)\n",
    "print(\"--------------\")\n",
    "print(arr1.shape)\n",
    "print(arr2.shape)"
   ]
  },
  {
   "cell_type": "markdown",
   "metadata": {},
   "source": [
    "<div style=\"background-color:rgb(85, 78, 79) ; color: #ffffff; width: 100%; height: 50px; text-align: center; font-weight: bold; line-height: 50px; margin: 10px 0; font-size: 24px;\">\n",
    "ndenumerate , nditer\n",
    "</div>"
   ]
  },
  {
   "cell_type": "markdown",
   "metadata": {},
   "source": [
    "#### 👉 ```ndenumerate``` is used to iterate over an array and return the index of the element\n",
    "#### 👉 ```nditer``` is used to iterate over an array"
   ]
  },
  {
   "cell_type": "code",
   "execution_count": 24,
   "metadata": {},
   "outputs": [
    {
     "name": "stdout",
     "output_type": "stream",
     "text": [
      "[[ 1  2  3  4  5  6]\n",
      " [ 7  8  9 10 11 12]\n",
      " [13 14 15 16 17 18]]\n",
      "--------\n",
      "(0, 0) 1\n",
      "(0, 1) 2\n",
      "(0, 2) 3\n",
      "(0, 3) 4\n",
      "(0, 4) 5\n",
      "(0, 5) 6\n",
      "(1, 0) 7\n",
      "(1, 1) 8\n",
      "(1, 2) 9\n",
      "(1, 3) 10\n",
      "(1, 4) 11\n",
      "(1, 5) 12\n",
      "(2, 0) 13\n",
      "(2, 1) 14\n",
      "(2, 2) 15\n",
      "(2, 3) 16\n",
      "(2, 4) 17\n",
      "(2, 5) 18\n"
     ]
    }
   ],
   "source": [
    "one_d_array = np.array([1,2,3,4,5,6])\n",
    "two_d_array = np.array([one_d_array, one_d_array + 6, one_d_array + 12])\n",
    "\n",
    "print(two_d_array)\n",
    "print('--------')\n",
    "for index,i in np.ndenumerate(two_d_array):\n",
    "    print(index, i)"
   ]
  },
  {
   "cell_type": "code",
   "execution_count": 25,
   "metadata": {},
   "outputs": [
    {
     "name": "stdout",
     "output_type": "stream",
     "text": [
      "1\n",
      "3\n",
      "5\n",
      "7\n"
     ]
    }
   ],
   "source": [
    "arr = np.array([[1, 2, 3, 4], [5, 6, 7, 8]])\n",
    "\n",
    "for x in np.nditer(arr[:, ::2]):        \n",
    "    print(x)"
   ]
  },
  {
   "cell_type": "markdown",
   "metadata": {},
   "source": [
    "<div style=\"background-color:rgb(85, 78, 79) ; color: #ffffff; width: 100%; height: 50px; text-align: center; font-weight: bold; line-height: 50px; margin: 10px 0; font-size: 24px;\">\n",
    "copy , view\n",
    "</div>"
   ]
  },
  {
   "cell_type": "markdown",
   "metadata": {},
   "source": [
    "#### 👉 ```copy``` : no edit in original\n",
    "#### 👉 ```view``` : edit in original"
   ]
  },
  {
   "cell_type": "code",
   "execution_count": 26,
   "metadata": {},
   "outputs": [
    {
     "name": "stdout",
     "output_type": "stream",
     "text": [
      "arr1>>  [1 2 3 4 5]\n",
      "arr1>>  [6 2 3 4 5]\n",
      "arr2>>  [1 2 3 4 5]\n",
      "======================\n",
      "arr1>>  [1 2 3 4 5]\n",
      "arr1>>  [6 2 3 4 5]\n",
      "arr2>>  [6 2 3 4 5]\n"
     ]
    }
   ],
   "source": [
    "arr1= np.array([1,2,3,4,5])\n",
    "arr2=np.copy(arr1)      # = arr1.copy()\n",
    "print(\"arr1>> \", arr1)\n",
    "\n",
    "arr1[0]=6\n",
    "print(\"arr1>> \", arr1)\n",
    "print(\"arr2>> \", arr2)\n",
    "print(\"======================\")\n",
    "\n",
    "arr1= np.array([1,2,3,4,5])\n",
    "arr2=arr1.view()\n",
    "print(\"arr1>> \", arr1)\n",
    "\n",
    "arr1[0]=6\n",
    "print(\"arr1>> \", arr1)\n",
    "print(\"arr2>> \", arr2)"
   ]
  }
 ],
 "metadata": {
  "kernelspec": {
   "display_name": "base",
   "language": "python",
   "name": "python3"
  },
  "language_info": {
   "codemirror_mode": {
    "name": "ipython",
    "version": 3
   },
   "file_extension": ".py",
   "mimetype": "text/x-python",
   "name": "python",
   "nbconvert_exporter": "python",
   "pygments_lexer": "ipython3",
   "version": "3.12.3"
  }
 },
 "nbformat": 4,
 "nbformat_minor": 2
}
